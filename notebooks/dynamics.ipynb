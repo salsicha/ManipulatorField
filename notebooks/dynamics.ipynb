version https://git-lfs.github.com/spec/v1
oid sha256:67fa62aa7da3ec6df836918f27a476bbdfc2e4f2c69d08a27c0886331cd846c5
size 1178965
