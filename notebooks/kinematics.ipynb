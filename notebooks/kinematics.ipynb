version https://git-lfs.github.com/spec/v1
oid sha256:579c6beb40478a10ed501f4f3f1f4b607ebffc3df1a036854f58e2a8d9d1bbb6
size 717890
