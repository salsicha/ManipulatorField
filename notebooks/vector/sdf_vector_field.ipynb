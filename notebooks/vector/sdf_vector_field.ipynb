version https://git-lfs.github.com/spec/v1
oid sha256:5e048aeebcff9eec8f8b18ccacb723441882d7a4800bb8d97529e739adf17c48
size 666252
