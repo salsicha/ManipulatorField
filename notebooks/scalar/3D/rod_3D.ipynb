version https://git-lfs.github.com/spec/v1
oid sha256:54cdcab7b14db4545ec8efc0b6785009b6d5b507d3c09c0f4d84a729b5453936
size 326485
