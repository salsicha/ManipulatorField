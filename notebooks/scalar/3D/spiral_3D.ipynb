version https://git-lfs.github.com/spec/v1
oid sha256:6b52499e595e67c015f4703700bd1373bc769e8ba3f4e6c38f08ee82f5fe0fe3
size 228543
