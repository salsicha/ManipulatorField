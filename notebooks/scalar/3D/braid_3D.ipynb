version https://git-lfs.github.com/spec/v1
oid sha256:9705e532d80a246212039a212a1fe9aee316cd1b7ea15f2f9e45a90ffd1f3201
size 192611
