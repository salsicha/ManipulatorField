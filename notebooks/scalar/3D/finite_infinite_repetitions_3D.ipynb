version https://git-lfs.github.com/spec/v1
oid sha256:3f01813d08829ce600887576ae529648d2287f9cfb1508c21c2639e1557c9995
size 144750
