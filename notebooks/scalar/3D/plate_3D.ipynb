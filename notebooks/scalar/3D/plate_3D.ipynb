version https://git-lfs.github.com/spec/v1
oid sha256:a5512b8ba21228c97e7c29b653489c7132db85ad0e8e7caf0cdedcc4794a35e5
size 131044
