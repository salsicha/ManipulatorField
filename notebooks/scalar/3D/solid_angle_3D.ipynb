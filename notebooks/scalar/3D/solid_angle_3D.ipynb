version https://git-lfs.github.com/spec/v1
oid sha256:d8849247e8732867211e8f30e5d1b9da5e3ae6637cf59bd33b35781e5ed7dca4
size 168225
