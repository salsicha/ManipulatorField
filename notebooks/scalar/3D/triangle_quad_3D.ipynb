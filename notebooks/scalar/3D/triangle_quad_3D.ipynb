version https://git-lfs.github.com/spec/v1
oid sha256:d2f4f636c0b6c71d1cc9026ce045b1d497cbafa4dd69669c9beb255e6290446e
size 118213
