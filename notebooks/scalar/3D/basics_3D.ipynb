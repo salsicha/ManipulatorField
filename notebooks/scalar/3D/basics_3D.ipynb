version https://git-lfs.github.com/spec/v1
oid sha256:b7b654fd28d882123e968f0927254e26066c1c21ceeb0357b0e2298b4da69b08
size 174442
