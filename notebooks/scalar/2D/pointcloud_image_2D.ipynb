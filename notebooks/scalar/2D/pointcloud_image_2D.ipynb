version https://git-lfs.github.com/spec/v1
oid sha256:af13c4be0cdb432c590ad252c5742ab6bbee04979df43deae470ea8c14c82bb9
size 411024
