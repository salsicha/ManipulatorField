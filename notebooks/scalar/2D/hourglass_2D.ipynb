version https://git-lfs.github.com/spec/v1
oid sha256:a56c6ef6c60010bbdea19727c2b83c4fdf0973d6cc565918747df8e3355b10f1
size 169297
