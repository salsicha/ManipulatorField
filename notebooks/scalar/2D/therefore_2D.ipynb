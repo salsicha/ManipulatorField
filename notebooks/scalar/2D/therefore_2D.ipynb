version https://git-lfs.github.com/spec/v1
oid sha256:ea7bcb4f218a8ee4175ed90b4130bb48ba59237fe5fb95c74cec0e24160a1c9c
size 275776
