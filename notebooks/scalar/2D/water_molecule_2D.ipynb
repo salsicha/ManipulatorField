version https://git-lfs.github.com/spec/v1
oid sha256:38219f54e32b65dea160e9719d7c9e28a96cb5964ee818697c285b001e890870
size 168359
