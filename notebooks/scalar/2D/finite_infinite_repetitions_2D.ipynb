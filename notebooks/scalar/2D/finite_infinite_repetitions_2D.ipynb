version https://git-lfs.github.com/spec/v1
oid sha256:6b1fdab46456e4c69dbc0d5fe4196f8d302a9791107f65b0895f74e171335cd1
size 157838
