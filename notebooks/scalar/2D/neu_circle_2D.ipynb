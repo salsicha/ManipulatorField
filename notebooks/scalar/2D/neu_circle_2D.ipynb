version https://git-lfs.github.com/spec/v1
oid sha256:5cc0f63285b95343dda1d185fcc713e5c7a722caeb699bfa538ee034f603179b
size 232738
