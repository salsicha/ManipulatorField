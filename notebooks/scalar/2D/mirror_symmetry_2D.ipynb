version https://git-lfs.github.com/spec/v1
oid sha256:468835a432a5133a76c49d6f2daacd107add96900f255d01a1386c4255469596
size 330702
