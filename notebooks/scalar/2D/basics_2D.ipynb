version https://git-lfs.github.com/spec/v1
oid sha256:fed6bbed8cc3b552e6dfc075344fce283012956b63d0c506936a2c683c635789
size 210793
