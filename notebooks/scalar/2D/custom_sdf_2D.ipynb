version https://git-lfs.github.com/spec/v1
oid sha256:a457a46f4297ffe549cf9e51199a473e5494598542d994950b3e4d4edb4539c6
size 195616
